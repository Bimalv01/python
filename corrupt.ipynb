{
  "nbformat": 4,
  "nbformat_minor": 0,
  "metadata": {
    "colab": {
      "provenance": [],
      "mount_file_id": "12XrURPXqWBP5PmtnzYgFRXarOTXdBCQG",
      "authorship_tag": "ABX9TyMrZ/AV29wLcgBx41Um9wVc",
      "include_colab_link": true
    },
    "kernelspec": {
      "name": "python3",
      "display_name": "Python 3"
    },
    "language_info": {
      "name": "python"
    }
  },
  "cells": [
    {
      "cell_type": "markdown",
      "metadata": {
        "id": "view-in-github",
        "colab_type": "text"
      },
      "source": [
        "<a href=\"https://colab.research.google.com/github/Bimalv01/python/blob/main/corrupt.ipynb\" target=\"_parent\"><img src=\"https://colab.research.google.com/assets/colab-badge.svg\" alt=\"Open In Colab\"/></a>"
      ]
    },
    {
      "cell_type": "code",
      "execution_count": 56,
      "metadata": {
        "colab": {
          "base_uri": "https://localhost:8080/",
          "height": 106
        },
        "id": "8IIcZWO5t8Cc",
        "outputId": "f69312f2-9392-4d7d-c8c6-df208f245981"
      },
      "outputs": [
        {
          "output_type": "stream",
          "name": "stdout",
          "text": [
            "Drive already mounted at /content/drive; to attempt to forcibly remount, call drive.mount(\"/content/drive\", force_remount=True).\n",
            "Corrupted dataset saved to /content/drive/MyDrive/Colab Notebooks/cuurrupted_feedback_dataset.csv\n"
          ]
        },
        {
          "output_type": "stream",
          "name": "stderr",
          "text": [
            "<ipython-input-56-68cb57c84b14>:86: UserWarning: Could not infer format, so each element will be parsed individually, falling back to `dateutil`. To ensure parsing is consistent and as-expected, please specify a format.\n",
            "  pd.to_datetime(df[col])\n"
          ]
        },
        {
          "output_type": "display_data",
          "data": {
            "text/plain": [
              "<IPython.core.display.Javascript object>"
            ],
            "application/javascript": [
              "\n",
              "    async function download(id, filename, size) {\n",
              "      if (!google.colab.kernel.accessAllowed) {\n",
              "        return;\n",
              "      }\n",
              "      const div = document.createElement('div');\n",
              "      const label = document.createElement('label');\n",
              "      label.textContent = `Downloading \"${filename}\": `;\n",
              "      div.appendChild(label);\n",
              "      const progress = document.createElement('progress');\n",
              "      progress.max = size;\n",
              "      div.appendChild(progress);\n",
              "      document.body.appendChild(div);\n",
              "\n",
              "      const buffers = [];\n",
              "      let downloaded = 0;\n",
              "\n",
              "      const channel = await google.colab.kernel.comms.open(id);\n",
              "      // Send a message to notify the kernel that we're ready.\n",
              "      channel.send({})\n",
              "\n",
              "      for await (const message of channel.messages) {\n",
              "        // Send a message to notify the kernel that we're ready.\n",
              "        channel.send({})\n",
              "        if (message.buffers) {\n",
              "          for (const buffer of message.buffers) {\n",
              "            buffers.push(buffer);\n",
              "            downloaded += buffer.byteLength;\n",
              "            progress.value = downloaded;\n",
              "          }\n",
              "        }\n",
              "      }\n",
              "      const blob = new Blob(buffers, {type: 'application/binary'});\n",
              "      const a = document.createElement('a');\n",
              "      a.href = window.URL.createObjectURL(blob);\n",
              "      a.download = filename;\n",
              "      div.appendChild(a);\n",
              "      a.click();\n",
              "      div.remove();\n",
              "    }\n",
              "  "
            ]
          },
          "metadata": {}
        },
        {
          "output_type": "display_data",
          "data": {
            "text/plain": [
              "<IPython.core.display.Javascript object>"
            ],
            "application/javascript": [
              "download(\"download_978045dc-6a4b-48c9-a856-09ac25443454\", \"cuurrupted_feedback_dataset.csv\", 197615)"
            ]
          },
          "metadata": {}
        }
      ],
      "source": [
        "import pandas as pd\n",
        "import numpy as np\n",
        "import random\n",
        "from datetime import timedelta\n",
        "from google.colab import drive\n",
        "\n",
        "# Mount Google Drive\n",
        "drive.mount('/content/drive')\n",
        "\n",
        "# Define the file path\n",
        "file_path = '/content/drive/MyDrive/Colab Notebooks/feedback_dataset.csv'\n",
        "output_path = '/content/drive/MyDrive/Colab Notebooks/cuurrupted_feedback_dataset.csv'\n",
        "\n",
        "def corrupt_dataset(file_path, output_path):\n",
        "    # Load the dataset with the correct delimiter\n",
        "    try:\n",
        "        df = pd.read_csv(file_path, delimiter='\\t', on_bad_lines='skip')\n",
        "    except pd.errors.ParserError as e:\n",
        "        print(f\"Error reading the file: {e}\")\n",
        "        return\n",
        "\n",
        "    # Set a random seed for reproducibility\n",
        "    np.random.seed(42)\n",
        "\n",
        "    # Introduce missing values\n",
        "    def introduce_missing_values(df, fraction=0.1):\n",
        "        df_corrupted = df.copy()\n",
        "        for col in df_corrupted.columns:\n",
        "            df_corrupted.loc[df_corrupted.sample(frac=fraction).index, col] = np.nan\n",
        "        return df_corrupted\n",
        "\n",
        "    # Introduce duplicate rows\n",
        "    def introduce_duplicates(df, fraction=0.1):\n",
        "        df_corrupted = df.copy()\n",
        "        n_duplicates = int(len(df) * fraction)\n",
        "        duplicates = df.sample(n=n_duplicates, replace=True)\n",
        "        df_corrupted = pd.concat([df_corrupted, duplicates], ignore_index=True)\n",
        "        return df_corrupted\n",
        "\n",
        "    # Introduce random error values\n",
        "    def introduce_errors(df, fraction=0.05):\n",
        "        df_corrupted = df.copy()\n",
        "        for col in df_corrupted.select_dtypes(include=[np.number]).columns:\n",
        "            error_indices = df_corrupted.sample(frac=fraction).index\n",
        "            df_corrupted.loc[error_indices, col] = df_corrupted.loc[error_indices, col] * random.uniform(1.5, 2.0)\n",
        "        return df_corrupted\n",
        "\n",
        "    # Introduce outliers\n",
        "    def introduce_outliers(df, fraction=0.01):\n",
        "        df_corrupted = df.copy()\n",
        "        for col in df_corrupted.select_dtypes(include=[np.number]).columns:\n",
        "            outlier_indices = df_corrupted.sample(frac=fraction).index\n",
        "            df_corrupted.loc[outlier_indices, col] = df_corrupted.loc[outlier_indices, col] * random.uniform(5.0, 10.0)\n",
        "        return df_corrupted\n",
        "\n",
        "    # Introduce incorrect data types\n",
        "    def introduce_incorrect_datatypes(df, fraction=0.05):\n",
        "        df_corrupted = df.copy()\n",
        "        for col in df_corrupted.select_dtypes(include=[np.number]).columns:\n",
        "            str_indices = df_corrupted.sample(frac=fraction).index\n",
        "            df_corrupted.loc[str_indices, col] = df_corrupted.loc[str_indices, col].astype(str) + \"_error\"\n",
        "        return df_corrupted\n",
        "\n",
        "    # Introduce inconsistent date formats\n",
        "    def introduce_date_format_errors(df, date_col, fraction=0.1):\n",
        "        df_corrupted = df.copy()\n",
        "        date_formats = ['%Y-%m-%d', '%d/%m/%Y', '%m-%d-%Y']\n",
        "        df_corrupted[date_col] = pd.to_datetime(df_corrupted[date_col], errors='coerce')\n",
        "        date_indices = df_corrupted.sample(frac=fraction).index\n",
        "        for idx in date_indices:\n",
        "            df_corrupted.at[idx, date_col] = (df_corrupted.at[idx, date_col] + timedelta(days=random.randint(0, 365))).strftime(random.choice(date_formats))\n",
        "        return df_corrupted\n",
        "\n",
        "    # Apply corruptions\n",
        "    df_corrupted = introduce_missing_values(df)\n",
        "    df_corrupted = introduce_duplicates(df_corrupted)\n",
        "    df_corrupted = introduce_errors(df_corrupted)\n",
        "    df_corrupted = introduce_outliers(df_corrupted)\n",
        "    df_corrupted = introduce_incorrect_datatypes(df_corrupted)\n",
        "\n",
        "    # If there's a date column, introduce date format errors\n",
        "    date_column = None\n",
        "    for col in df.columns:\n",
        "        if pd.api.types.is_datetime64_any_dtype(df[col]) or pd.api.types.is_string_dtype(df[col]):\n",
        "            try:\n",
        "                pd.to_datetime(df[col])\n",
        "                date_column = col\n",
        "                break\n",
        "            except:\n",
        "                continue\n",
        "    if date_column:\n",
        "        df_corrupted = introduce_date_format_errors(df_corrupted, date_column)\n",
        "\n",
        "    # Save the corrupted dataset\n",
        "    df_corrupted.to_csv(output_path, index=False)\n",
        "    print(f\"Corrupted dataset saved to {output_path}\")\n",
        "\n",
        "# Corrupt the dataset\n",
        "corrupt_dataset(file_path, output_path)\n",
        "\n",
        "# Download the corrupted dataset\n",
        "from google.colab import files\n",
        "files.download(output_path)"
      ]
    },
    {
      "cell_type": "code",
      "source": [],
      "metadata": {
        "id": "G5uGT42wyRq4"
      },
      "execution_count": null,
      "outputs": []
    }
  ]
}